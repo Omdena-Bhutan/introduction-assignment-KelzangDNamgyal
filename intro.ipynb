{
  "nbformat": 4,
  "nbformat_minor": 0,
  "metadata": {
    "colab": {
      "provenance": [],
      "authorship_tag": "ABX9TyNFAs+ZV5WpisUMzIkewxTH",
      "include_colab_link": true
    },
    "kernelspec": {
      "name": "python3",
      "display_name": "Python 3"
    },
    "language_info": {
      "name": "python"
    }
  },
  "cells": [
    {
      "cell_type": "markdown",
      "metadata": {
        "id": "view-in-github",
        "colab_type": "text"
      },
      "source": [
        "<a href=\"https://colab.research.google.com/github/Omdena-Bhutan/introduction-assignment-KelzangDNamgyal/blob/main/intro.ipynb\" target=\"_parent\"><img src=\"https://colab.research.google.com/assets/colab-badge.svg\" alt=\"Open In Colab\"/></a>"
      ]
    },
    {
      "cell_type": "code",
      "source": [
        "# string\n",
        "print(\"hello kelza\")"
      ],
      "metadata": {
        "colab": {
          "base_uri": "https://localhost:8080/"
        },
        "id": "2AtOq5CeZOUH",
        "outputId": "96aad028-d1a1-4789-b9c3-5211530d73a9"
      },
      "execution_count": null,
      "outputs": [
        {
          "output_type": "stream",
          "name": "stdout",
          "text": [
            "hello kelza\n"
          ]
        }
      ]
    },
    {
      "cell_type": "code",
      "source": [
        "# integer\n",
        "x = 5;\n",
        "print(x)"
      ],
      "metadata": {
        "colab": {
          "base_uri": "https://localhost:8080/"
        },
        "id": "Ree6n-FGfKPI",
        "outputId": "ce67c080-0a23-452b-b6b4-cf590bace90c"
      },
      "execution_count": null,
      "outputs": [
        {
          "output_type": "stream",
          "name": "stdout",
          "text": [
            "5\n"
          ]
        }
      ]
    },
    {
      "cell_type": "code",
      "source": [
        "# float\n",
        "y = 3.14;\n",
        "print(y)"
      ],
      "metadata": {
        "colab": {
          "base_uri": "https://localhost:8080/"
        },
        "id": "9PEnnlRnfaSu",
        "outputId": "09aa14df-278f-4f3a-a6fb-da81fdf4491f"
      },
      "execution_count": null,
      "outputs": [
        {
          "output_type": "stream",
          "name": "stdout",
          "text": [
            "3.14\n"
          ]
        }
      ]
    },
    {
      "cell_type": "code",
      "source": [
        "#boolean\n",
        "z = True;\n",
        "print(z)"
      ],
      "metadata": {
        "colab": {
          "base_uri": "https://localhost:8080/"
        },
        "id": "gVGyLp3zfkA3",
        "outputId": "3c03f13f-f6c7-4852-bebf-e0e172557344"
      },
      "execution_count": null,
      "outputs": [
        {
          "output_type": "stream",
          "name": "stdout",
          "text": [
            "True\n"
          ]
        }
      ]
    },
    {
      "cell_type": "code",
      "source": [
        "# list of numbers\n",
        "nums = [1, 2, 3, 4, 5];\n",
        "print(nums)"
      ],
      "metadata": {
        "id": "TIfRHomhObIm",
        "outputId": "54e21530-40f4-469d-8696-d38d1b0eb1a5",
        "colab": {
          "base_uri": "https://localhost:8080/"
        }
      },
      "execution_count": null,
      "outputs": [
        {
          "output_type": "stream",
          "name": "stdout",
          "text": [
            "[1, 2, 3, 4, 5]\n"
          ]
        }
      ]
    },
    {
      "cell_type": "code",
      "source": [
        "# heterogenous list\n",
        "mixed = [1, \"Sonam\", 321, \"Kelza\"];\n",
        "print(mixed)"
      ],
      "metadata": {
        "id": "vL5Riq7VPJs6",
        "outputId": "9a817ebb-4f37-483d-ad19-aef4b9ad5bfa",
        "colab": {
          "base_uri": "https://localhost:8080/"
        }
      },
      "execution_count": 4,
      "outputs": [
        {
          "output_type": "stream",
          "name": "stdout",
          "text": [
            "[1, 'Sonam', 321, 'Kelza']\n"
          ]
        }
      ]
    },
    {
      "cell_type": "code",
      "source": [
        "mixed[3]"
      ],
      "metadata": {
        "id": "9XjKpkuiPkGO",
        "outputId": "466adc83-e266-4923-e028-9ba70685fe18",
        "colab": {
          "base_uri": "https://localhost:8080/",
          "height": 35
        }
      },
      "execution_count": 5,
      "outputs": [
        {
          "output_type": "execute_result",
          "data": {
            "text/plain": [
              "'Kelza'"
            ],
            "application/vnd.google.colaboratory.intrinsic+json": {
              "type": "string"
            }
          },
          "metadata": {},
          "execution_count": 5
        }
      ]
    },
    {
      "cell_type": "code",
      "source": [
        "mixed"
      ],
      "metadata": {
        "id": "2fWdMEm8QvSe",
        "outputId": "61476e08-da5f-4f0c-ebe8-b752ef8326d2",
        "colab": {
          "base_uri": "https://localhost:8080/"
        }
      },
      "execution_count": 8,
      "outputs": [
        {
          "output_type": "execute_result",
          "data": {
            "text/plain": [
              "[1, 'Sonam', 321, 'Kelza']"
            ]
          },
          "metadata": {},
          "execution_count": 8
        }
      ]
    },
    {
      "cell_type": "code",
      "source": [
        "# class assignment\n",
        "# addition of element\n",
        "fruits = [\"Apple\", \"Banana\", \"Cherry\"];\n",
        "fruits.append(\"Mango\");\n",
        "print(fruits);"
      ],
      "metadata": {
        "id": "j1fef0Y6QxoR",
        "outputId": "c7861f00-03f5-4e24-e74a-c50ce946a97c",
        "colab": {
          "base_uri": "https://localhost:8080/"
        }
      },
      "execution_count": 18,
      "outputs": [
        {
          "output_type": "stream",
          "name": "stdout",
          "text": [
            "['Apple', 'Banana', 'Cherry', 'Mango']\n"
          ]
        }
      ]
    },
    {
      "cell_type": "code",
      "source": [
        "# removal of element from the list\n",
        "fruits.remove(\"Banana\");\n",
        "fruits;"
      ],
      "metadata": {
        "id": "uPVV2hDRSARJ",
        "outputId": "0be5baf6-73c1-468b-cbea-c925389bd591",
        "colab": {
          "base_uri": "https://localhost:8080/"
        }
      },
      "execution_count": 19,
      "outputs": [
        {
          "output_type": "execute_result",
          "data": {
            "text/plain": [
              "['Apple', 'Cherry', 'Mango']"
            ]
          },
          "metadata": {},
          "execution_count": 19
        }
      ]
    },
    {
      "cell_type": "code",
      "source": [
        "# addition of elemet to the start of the list\n",
        "fruits.insert(0, \"Orange\");\n",
        "print(fruits)"
      ],
      "metadata": {
        "id": "FEF9K3GhRCsn",
        "outputId": "b85619e5-ce7d-420e-f5e4-28a637558049",
        "colab": {
          "base_uri": "https://localhost:8080/"
        }
      },
      "execution_count": 31,
      "outputs": [
        {
          "output_type": "stream",
          "name": "stdout",
          "text": [
            "['Orange', 'Apple', 'Cherry', 'Mango']\n"
          ]
        }
      ]
    },
    {
      "cell_type": "code",
      "source": [
        "# tuples\n",
        "my_tuples = (\"Kelza\", 3.14, \"Thimphu\");\n",
        "print(my_tuples);"
      ],
      "metadata": {
        "id": "4cogBH_OWOCe",
        "outputId": "76141b12-008d-469b-826a-425a6a659529",
        "colab": {
          "base_uri": "https://localhost:8080/"
        }
      },
      "execution_count": 33,
      "outputs": [
        {
          "output_type": "stream",
          "name": "stdout",
          "text": [
            "('Kelza', 3.14, 'Thimphu')\n"
          ]
        }
      ]
    },
    {
      "cell_type": "code",
      "source": [
        "# dictionaries\n",
        "my_details = {'name': 'Kelza', 'city': 'Thimphu', 'aka': 'Bull'};\n",
        "print(my_details);\n",
        "\n",
        "# access the details/element\n",
        "print('city:', my_details[\"city\"]);\n",
        "\n",
        "# addition of the element\n",
        "my_details[\"country\"] = \"Bhutan\";\n",
        "\n",
        "# removal of the element\n",
        "my_details.pop('aka')\n",
        "\n",
        "print(my_details);\n"
      ],
      "metadata": {
        "id": "xUHX_GeyWev2",
        "outputId": "f774a8a5-c2f1-4127-f761-928e2eb884d6",
        "colab": {
          "base_uri": "https://localhost:8080/"
        }
      },
      "execution_count": 41,
      "outputs": [
        {
          "output_type": "stream",
          "name": "stdout",
          "text": [
            "{'name': 'Kelza', 'city': 'Thimphu', 'aka': 'Bull'}\n",
            "city: Thimphu\n",
            "{'name': 'Kelza', 'city': 'Thimphu', 'country': 'Bhutan'}\n"
          ]
        }
      ]
    },
    {
      "cell_type": "code",
      "source": [
        "# sets\n",
        "# cant have dubles/duplicate values\n",
        "my_set = {1, 2, 3, 5, 1, 2, 4, 5, 5, 4, 7, 8, 4, 6};\n",
        "\n",
        "# adding element\n",
        "my_set.add(76)\n",
        "\n",
        "# remove element\n",
        "my_set.remove(7)\n",
        "\n",
        "# for loop\n",
        "for item in my_set:\n",
        "  print(item)\n",
        "\n",
        "print(my_set)"
      ],
      "metadata": {
        "id": "9SCIJ9YqY461",
        "outputId": "ad07320f-f2ef-41b2-a629-c2596ef0df2d",
        "colab": {
          "base_uri": "https://localhost:8080/"
        }
      },
      "execution_count": 48,
      "outputs": [
        {
          "output_type": "stream",
          "name": "stdout",
          "text": [
            "1\n",
            "2\n",
            "3\n",
            "4\n",
            "5\n",
            "6\n",
            "8\n",
            "76\n",
            "{1, 2, 3, 4, 5, 6, 8, 76}\n"
          ]
        }
      ]
    },
    {
      "cell_type": "code",
      "source": [],
      "metadata": {
        "id": "HBvLLd3HdHRq"
      },
      "execution_count": null,
      "outputs": []
    }
  ]
}